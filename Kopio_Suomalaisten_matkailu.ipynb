{
  "nbformat": 4,
  "nbformat_minor": 0,
  "metadata": {
    "colab": {
      "provenance": [],
      "authorship_tag": "ABX9TyM/giVvPVkgcmfPphuCslrd"
    },
    "kernelspec": {
      "name": "python3",
      "display_name": "Python 3"
    },
    "language_info": {
      "name": "python"
    }
  },
  "cells": [
    {
      "cell_type": "code",
      "execution_count": null,
      "metadata": {
        "id": "ygDkhMNhI8uu"
      },
      "outputs": [],
      "source": []
    },
    {
      "cell_type": "markdown",
      "source": [
        "# SUOMALAISTEN MATKAILU\n",
        "\n",
        "Tilastokeskus\n",
        "\n",
        "Suomen virallinen tilasto (SVT): Suomalaisten matkailu [verkkojulkaisu].\n",
        "\n",
        "ISSN=1798-8837. Helsinki, Tilastokeskus\n",
        "\n",
        "Saantitapa: https://stat.fi/julkaisu/cktsnodi06x960b53xtutj465\n"
      ],
      "metadata": {
        "id": "WU9F_EUVJADJ"
      }
    },
    {
      "cell_type": "markdown",
      "source": [
        "# **Aineisto**\n",
        "\n",
        "Ulkomaanmatkat kohdemaittain, 2012-2022\n",
        "\n",
        "Yöpymisen sisältäneet matkat sukupuolen, ikäryhmän ja asuinalueen mukaan, 2012-2021"
      ],
      "metadata": {
        "id": "rhFVGzqvX372"
      }
    },
    {
      "cell_type": "markdown",
      "source": [
        "## **Muuttujat**\n",
        "\n",
        "**Matkan suunta**\n",
        "\n",
        "Suuntautuuko matka kotimaahan vai ulkomaille\n",
        "\n",
        "**Matkan tarkoitus**\n",
        "\n",
        "Matkan pääasiallinen tarkoitus, työ vai vapaa-aika\n",
        "\n",
        "**Ikäryhmä**\n",
        "\n",
        "15-24\n",
        "\n",
        "25-64\n",
        "\n",
        "64-85\n",
        "\n",
        "\n",
        "**Kohdealue**\n",
        "\n",
        "Pohjoismaat\n",
        "\n",
        "Venäjä ja Baltia\n",
        "\n",
        "Itä- ja Länsi-Eurooppa\n",
        "\n",
        "Etelä-Eurooppa ja Itäisen Välimeren maat\n",
        "\n",
        "Amerikka\n",
        "\n",
        "Aasia ja Oseania\n",
        "\n",
        "Afrikka\n",
        "\n",
        "\n",
        "***Mitatut muuttujat:***\n",
        "\n",
        "Matkojen lkm. tuhansina\n",
        "\n",
        "Yöpymisten lkm. tuhansina\n",
        "\n",
        "Matkan keskimääräinen kesto, yötä"
      ],
      "metadata": {
        "id": "BTIGCUX2JAdw"
      }
    },
    {
      "cell_type": "markdown",
      "source": [
        "# **Aineiston käsittely**\n",
        "\n",
        "Normalisointi\n",
        "\n",
        "\n",
        "**Koneoppiminen**:\n",
        "\n",
        "*Regressio*\n",
        "\n",
        "Linear regression\n",
        "\n",
        "*Luokittelu*\n",
        "\n",
        "Logistic regression\n",
        "\n",
        "KNN, K -nearest neighbors\n",
        "\n",
        "*Klusterointi*\n",
        "\n",
        "K –means"
      ],
      "metadata": {
        "id": "Eu-Co4fiJAsw"
      }
    }
  ]
}
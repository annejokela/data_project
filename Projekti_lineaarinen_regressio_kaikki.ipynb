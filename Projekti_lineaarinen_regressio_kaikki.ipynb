{
  "nbformat": 4,
  "nbformat_minor": 0,
  "metadata": {
    "colab": {
      "provenance": [],
      "authorship_tag": "ABX9TyPKB/JgYevmPPllpC+9OMPq"
    },
    "kernelspec": {
      "name": "python3",
      "display_name": "Python 3"
    },
    "language_info": {
      "name": "python"
    }
  },
  "cells": [
    {
      "cell_type": "markdown",
      "source": [
        "**Lineaarinen regressio kotimaan ja ulkomaan matkoista, jotka tässä käsitelty yhdessä, aineisto normalisoitu**"
      ],
      "metadata": {
        "id": "dsIjOv9eVb-R"
      }
    },
    {
      "cell_type": "code",
      "source": [
        "\n",
        "import numpy as np\n",
        "import matplotlib.pyplot as plt\n",
        "import pandas as pd\n",
        "import seaborn as sns\n",
        "from sklearn.model_selection import train_test_split\n",
        "from sklearn.linear_model import LinearRegression\n",
        "from sklearn import linear_model\n",
        "from sklearn.metrics import mean_squared_error, r2_score"
      ],
      "metadata": {
        "id": "uyD7GSlnVcMP"
      },
      "execution_count": null,
      "outputs": []
    },
    {
      "cell_type": "code",
      "source": [
        "\n",
        "df = pd.read_excel(\"YO_0_linregr_01.xlsx\")\n",
        "df.head()"
      ],
      "metadata": {
        "colab": {
          "base_uri": "https://localhost:8080/",
          "height": 206
        },
        "id": "nXQIDvA0Vt7w",
        "outputId": "396f7caf-70b1-4073-efc5-60fab34a6d49"
      },
      "execution_count": null,
      "outputs": [
        {
          "output_type": "execute_result",
          "data": {
            "text/plain": [
              "      majoitusmuoto  matkakohde  matkan tarkoitus  matkan tyyppi  vuosi  \\\n",
              "0  Yhteensä KOTI VA           1                 1             11      1   \n",
              "1   Yhteensä KOTI T           1                 2             12      1   \n",
              "2  Yhteensä ULKO VA           2                 1             21      1   \n",
              "3   Yhteensä ULKO T           2                 2             22      1   \n",
              "4  Yhteensä KOTI VA           1                 1             11      2   \n",
              "\n",
              "   matkat yön yli lkm tuhansia  yöpymiset lkm tuhansia  matkan ka kesto yötä  \\\n",
              "0                        26770                   73470                   2.7   \n",
              "1                         4140                    8270                   2.0   \n",
              "2                         7100                   43610                   6.1   \n",
              "3                         1950                    9780                   5.0   \n",
              "4                        26530                   75620                   2.9   \n",
              "\n",
              "   matkan med kesto yötä  \n",
              "0                      2  \n",
              "1                      1  \n",
              "2                      4  \n",
              "3                      2  \n",
              "4                      2  "
            ],
            "text/html": [
              "\n",
              "  <div id=\"df-bd29f0dd-642c-4d22-ad4e-bd718aa49dc0\">\n",
              "    <div class=\"colab-df-container\">\n",
              "      <div>\n",
              "<style scoped>\n",
              "    .dataframe tbody tr th:only-of-type {\n",
              "        vertical-align: middle;\n",
              "    }\n",
              "\n",
              "    .dataframe tbody tr th {\n",
              "        vertical-align: top;\n",
              "    }\n",
              "\n",
              "    .dataframe thead th {\n",
              "        text-align: right;\n",
              "    }\n",
              "</style>\n",
              "<table border=\"1\" class=\"dataframe\">\n",
              "  <thead>\n",
              "    <tr style=\"text-align: right;\">\n",
              "      <th></th>\n",
              "      <th>majoitusmuoto</th>\n",
              "      <th>matkakohde</th>\n",
              "      <th>matkan tarkoitus</th>\n",
              "      <th>matkan tyyppi</th>\n",
              "      <th>vuosi</th>\n",
              "      <th>matkat yön yli lkm tuhansia</th>\n",
              "      <th>yöpymiset lkm tuhansia</th>\n",
              "      <th>matkan ka kesto yötä</th>\n",
              "      <th>matkan med kesto yötä</th>\n",
              "    </tr>\n",
              "  </thead>\n",
              "  <tbody>\n",
              "    <tr>\n",
              "      <th>0</th>\n",
              "      <td>Yhteensä KOTI VA</td>\n",
              "      <td>1</td>\n",
              "      <td>1</td>\n",
              "      <td>11</td>\n",
              "      <td>1</td>\n",
              "      <td>26770</td>\n",
              "      <td>73470</td>\n",
              "      <td>2.7</td>\n",
              "      <td>2</td>\n",
              "    </tr>\n",
              "    <tr>\n",
              "      <th>1</th>\n",
              "      <td>Yhteensä KOTI T</td>\n",
              "      <td>1</td>\n",
              "      <td>2</td>\n",
              "      <td>12</td>\n",
              "      <td>1</td>\n",
              "      <td>4140</td>\n",
              "      <td>8270</td>\n",
              "      <td>2.0</td>\n",
              "      <td>1</td>\n",
              "    </tr>\n",
              "    <tr>\n",
              "      <th>2</th>\n",
              "      <td>Yhteensä ULKO VA</td>\n",
              "      <td>2</td>\n",
              "      <td>1</td>\n",
              "      <td>21</td>\n",
              "      <td>1</td>\n",
              "      <td>7100</td>\n",
              "      <td>43610</td>\n",
              "      <td>6.1</td>\n",
              "      <td>4</td>\n",
              "    </tr>\n",
              "    <tr>\n",
              "      <th>3</th>\n",
              "      <td>Yhteensä ULKO T</td>\n",
              "      <td>2</td>\n",
              "      <td>2</td>\n",
              "      <td>22</td>\n",
              "      <td>1</td>\n",
              "      <td>1950</td>\n",
              "      <td>9780</td>\n",
              "      <td>5.0</td>\n",
              "      <td>2</td>\n",
              "    </tr>\n",
              "    <tr>\n",
              "      <th>4</th>\n",
              "      <td>Yhteensä KOTI VA</td>\n",
              "      <td>1</td>\n",
              "      <td>1</td>\n",
              "      <td>11</td>\n",
              "      <td>2</td>\n",
              "      <td>26530</td>\n",
              "      <td>75620</td>\n",
              "      <td>2.9</td>\n",
              "      <td>2</td>\n",
              "    </tr>\n",
              "  </tbody>\n",
              "</table>\n",
              "</div>\n",
              "      <button class=\"colab-df-convert\" onclick=\"convertToInteractive('df-bd29f0dd-642c-4d22-ad4e-bd718aa49dc0')\"\n",
              "              title=\"Convert this dataframe to an interactive table.\"\n",
              "              style=\"display:none;\">\n",
              "        \n",
              "  <svg xmlns=\"http://www.w3.org/2000/svg\" height=\"24px\"viewBox=\"0 0 24 24\"\n",
              "       width=\"24px\">\n",
              "    <path d=\"M0 0h24v24H0V0z\" fill=\"none\"/>\n",
              "    <path d=\"M18.56 5.44l.94 2.06.94-2.06 2.06-.94-2.06-.94-.94-2.06-.94 2.06-2.06.94zm-11 1L8.5 8.5l.94-2.06 2.06-.94-2.06-.94L8.5 2.5l-.94 2.06-2.06.94zm10 10l.94 2.06.94-2.06 2.06-.94-2.06-.94-.94-2.06-.94 2.06-2.06.94z\"/><path d=\"M17.41 7.96l-1.37-1.37c-.4-.4-.92-.59-1.43-.59-.52 0-1.04.2-1.43.59L10.3 9.45l-7.72 7.72c-.78.78-.78 2.05 0 2.83L4 21.41c.39.39.9.59 1.41.59.51 0 1.02-.2 1.41-.59l7.78-7.78 2.81-2.81c.8-.78.8-2.07 0-2.86zM5.41 20L4 18.59l7.72-7.72 1.47 1.35L5.41 20z\"/>\n",
              "  </svg>\n",
              "      </button>\n",
              "      \n",
              "  <style>\n",
              "    .colab-df-container {\n",
              "      display:flex;\n",
              "      flex-wrap:wrap;\n",
              "      gap: 12px;\n",
              "    }\n",
              "\n",
              "    .colab-df-convert {\n",
              "      background-color: #E8F0FE;\n",
              "      border: none;\n",
              "      border-radius: 50%;\n",
              "      cursor: pointer;\n",
              "      display: none;\n",
              "      fill: #1967D2;\n",
              "      height: 32px;\n",
              "      padding: 0 0 0 0;\n",
              "      width: 32px;\n",
              "    }\n",
              "\n",
              "    .colab-df-convert:hover {\n",
              "      background-color: #E2EBFA;\n",
              "      box-shadow: 0px 1px 2px rgba(60, 64, 67, 0.3), 0px 1px 3px 1px rgba(60, 64, 67, 0.15);\n",
              "      fill: #174EA6;\n",
              "    }\n",
              "\n",
              "    [theme=dark] .colab-df-convert {\n",
              "      background-color: #3B4455;\n",
              "      fill: #D2E3FC;\n",
              "    }\n",
              "\n",
              "    [theme=dark] .colab-df-convert:hover {\n",
              "      background-color: #434B5C;\n",
              "      box-shadow: 0px 1px 3px 1px rgba(0, 0, 0, 0.15);\n",
              "      filter: drop-shadow(0px 1px 2px rgba(0, 0, 0, 0.3));\n",
              "      fill: #FFFFFF;\n",
              "    }\n",
              "  </style>\n",
              "\n",
              "      <script>\n",
              "        const buttonEl =\n",
              "          document.querySelector('#df-bd29f0dd-642c-4d22-ad4e-bd718aa49dc0 button.colab-df-convert');\n",
              "        buttonEl.style.display =\n",
              "          google.colab.kernel.accessAllowed ? 'block' : 'none';\n",
              "\n",
              "        async function convertToInteractive(key) {\n",
              "          const element = document.querySelector('#df-bd29f0dd-642c-4d22-ad4e-bd718aa49dc0');\n",
              "          const dataTable =\n",
              "            await google.colab.kernel.invokeFunction('convertToInteractive',\n",
              "                                                     [key], {});\n",
              "          if (!dataTable) return;\n",
              "\n",
              "          const docLinkHtml = 'Like what you see? Visit the ' +\n",
              "            '<a target=\"_blank\" href=https://colab.research.google.com/notebooks/data_table.ipynb>data table notebook</a>'\n",
              "            + ' to learn more about interactive tables.';\n",
              "          element.innerHTML = '';\n",
              "          dataTable['output_type'] = 'display_data';\n",
              "          await google.colab.output.renderOutput(dataTable, element);\n",
              "          const docLink = document.createElement('div');\n",
              "          docLink.innerHTML = docLinkHtml;\n",
              "          element.appendChild(docLink);\n",
              "        }\n",
              "      </script>\n",
              "    </div>\n",
              "  </div>\n",
              "  "
            ]
          },
          "metadata": {},
          "execution_count": 3
        }
      ]
    },
    {
      "cell_type": "code",
      "source": [
        "df.dtypes"
      ],
      "metadata": {
        "colab": {
          "base_uri": "https://localhost:8080/"
        },
        "id": "wp3MDmB6WGfa",
        "outputId": "a5ab1574-17f0-4f0e-e820-7d565cc5aa72"
      },
      "execution_count": null,
      "outputs": [
        {
          "output_type": "execute_result",
          "data": {
            "text/plain": [
              "majoitusmuoto                   object\n",
              "matkakohde                       int64\n",
              "matkan tarkoitus                 int64\n",
              "matkan tyyppi                    int64\n",
              "vuosi                            int64\n",
              "matkat yön yli lkm tuhansia      int64\n",
              "yöpymiset lkm tuhansia           int64\n",
              "matkan ka kesto yötä           float64\n",
              "matkan med kesto yötä            int64\n",
              "dtype: object"
            ]
          },
          "metadata": {},
          "execution_count": 4
        }
      ]
    },
    {
      "cell_type": "code",
      "source": [
        "\n",
        "df.describe()"
      ],
      "metadata": {
        "colab": {
          "base_uri": "https://localhost:8080/",
          "height": 300
        },
        "id": "dhXEXV85WBiS",
        "outputId": "4302aee9-f58e-496b-fc79-1911eae46411"
      },
      "execution_count": null,
      "outputs": [
        {
          "output_type": "execute_result",
          "data": {
            "text/plain": [
              "       matkakohde  matkan tarkoitus  matkan tyyppi      vuosi  \\\n",
              "count    40.00000          40.00000      40.000000  40.000000   \n",
              "mean      1.50000           1.50000      16.500000   5.500000   \n",
              "std       0.50637           0.50637       5.088952   2.908872   \n",
              "min       1.00000           1.00000      11.000000   1.000000   \n",
              "25%       1.00000           1.00000      11.750000   3.000000   \n",
              "50%       1.50000           1.50000      16.500000   5.500000   \n",
              "75%       2.00000           2.00000      21.250000   8.000000   \n",
              "max       2.00000           2.00000      22.000000  10.000000   \n",
              "\n",
              "       matkat yön yli lkm tuhansia  yöpymiset lkm tuhansia  \\\n",
              "count                    40.000000               40.000000   \n",
              "mean                   9179.750000            32354.000000   \n",
              "std                    9914.195854            29819.668763   \n",
              "min                     280.000000             2100.000000   \n",
              "25%                    1957.500000             7212.500000   \n",
              "50%                    3905.000000            12760.000000   \n",
              "75%                   11022.500000            52862.500000   \n",
              "max                   27720.000000            97450.000000   \n",
              "\n",
              "       matkan ka kesto yötä  matkan med kesto yötä  \n",
              "count             40.000000              40.000000  \n",
              "mean               4.312500               2.375000  \n",
              "std                2.266726               1.004796  \n",
              "min                1.800000               1.000000  \n",
              "25%                2.800000               2.000000  \n",
              "50%                3.900000               2.000000  \n",
              "75%                5.825000               3.000000  \n",
              "max               11.400000               5.000000  "
            ],
            "text/html": [
              "\n",
              "  <div id=\"df-9c86404e-c36d-4b01-8776-8073553d1144\">\n",
              "    <div class=\"colab-df-container\">\n",
              "      <div>\n",
              "<style scoped>\n",
              "    .dataframe tbody tr th:only-of-type {\n",
              "        vertical-align: middle;\n",
              "    }\n",
              "\n",
              "    .dataframe tbody tr th {\n",
              "        vertical-align: top;\n",
              "    }\n",
              "\n",
              "    .dataframe thead th {\n",
              "        text-align: right;\n",
              "    }\n",
              "</style>\n",
              "<table border=\"1\" class=\"dataframe\">\n",
              "  <thead>\n",
              "    <tr style=\"text-align: right;\">\n",
              "      <th></th>\n",
              "      <th>matkakohde</th>\n",
              "      <th>matkan tarkoitus</th>\n",
              "      <th>matkan tyyppi</th>\n",
              "      <th>vuosi</th>\n",
              "      <th>matkat yön yli lkm tuhansia</th>\n",
              "      <th>yöpymiset lkm tuhansia</th>\n",
              "      <th>matkan ka kesto yötä</th>\n",
              "      <th>matkan med kesto yötä</th>\n",
              "    </tr>\n",
              "  </thead>\n",
              "  <tbody>\n",
              "    <tr>\n",
              "      <th>count</th>\n",
              "      <td>40.00000</td>\n",
              "      <td>40.00000</td>\n",
              "      <td>40.000000</td>\n",
              "      <td>40.000000</td>\n",
              "      <td>40.000000</td>\n",
              "      <td>40.000000</td>\n",
              "      <td>40.000000</td>\n",
              "      <td>40.000000</td>\n",
              "    </tr>\n",
              "    <tr>\n",
              "      <th>mean</th>\n",
              "      <td>1.50000</td>\n",
              "      <td>1.50000</td>\n",
              "      <td>16.500000</td>\n",
              "      <td>5.500000</td>\n",
              "      <td>9179.750000</td>\n",
              "      <td>32354.000000</td>\n",
              "      <td>4.312500</td>\n",
              "      <td>2.375000</td>\n",
              "    </tr>\n",
              "    <tr>\n",
              "      <th>std</th>\n",
              "      <td>0.50637</td>\n",
              "      <td>0.50637</td>\n",
              "      <td>5.088952</td>\n",
              "      <td>2.908872</td>\n",
              "      <td>9914.195854</td>\n",
              "      <td>29819.668763</td>\n",
              "      <td>2.266726</td>\n",
              "      <td>1.004796</td>\n",
              "    </tr>\n",
              "    <tr>\n",
              "      <th>min</th>\n",
              "      <td>1.00000</td>\n",
              "      <td>1.00000</td>\n",
              "      <td>11.000000</td>\n",
              "      <td>1.000000</td>\n",
              "      <td>280.000000</td>\n",
              "      <td>2100.000000</td>\n",
              "      <td>1.800000</td>\n",
              "      <td>1.000000</td>\n",
              "    </tr>\n",
              "    <tr>\n",
              "      <th>25%</th>\n",
              "      <td>1.00000</td>\n",
              "      <td>1.00000</td>\n",
              "      <td>11.750000</td>\n",
              "      <td>3.000000</td>\n",
              "      <td>1957.500000</td>\n",
              "      <td>7212.500000</td>\n",
              "      <td>2.800000</td>\n",
              "      <td>2.000000</td>\n",
              "    </tr>\n",
              "    <tr>\n",
              "      <th>50%</th>\n",
              "      <td>1.50000</td>\n",
              "      <td>1.50000</td>\n",
              "      <td>16.500000</td>\n",
              "      <td>5.500000</td>\n",
              "      <td>3905.000000</td>\n",
              "      <td>12760.000000</td>\n",
              "      <td>3.900000</td>\n",
              "      <td>2.000000</td>\n",
              "    </tr>\n",
              "    <tr>\n",
              "      <th>75%</th>\n",
              "      <td>2.00000</td>\n",
              "      <td>2.00000</td>\n",
              "      <td>21.250000</td>\n",
              "      <td>8.000000</td>\n",
              "      <td>11022.500000</td>\n",
              "      <td>52862.500000</td>\n",
              "      <td>5.825000</td>\n",
              "      <td>3.000000</td>\n",
              "    </tr>\n",
              "    <tr>\n",
              "      <th>max</th>\n",
              "      <td>2.00000</td>\n",
              "      <td>2.00000</td>\n",
              "      <td>22.000000</td>\n",
              "      <td>10.000000</td>\n",
              "      <td>27720.000000</td>\n",
              "      <td>97450.000000</td>\n",
              "      <td>11.400000</td>\n",
              "      <td>5.000000</td>\n",
              "    </tr>\n",
              "  </tbody>\n",
              "</table>\n",
              "</div>\n",
              "      <button class=\"colab-df-convert\" onclick=\"convertToInteractive('df-9c86404e-c36d-4b01-8776-8073553d1144')\"\n",
              "              title=\"Convert this dataframe to an interactive table.\"\n",
              "              style=\"display:none;\">\n",
              "        \n",
              "  <svg xmlns=\"http://www.w3.org/2000/svg\" height=\"24px\"viewBox=\"0 0 24 24\"\n",
              "       width=\"24px\">\n",
              "    <path d=\"M0 0h24v24H0V0z\" fill=\"none\"/>\n",
              "    <path d=\"M18.56 5.44l.94 2.06.94-2.06 2.06-.94-2.06-.94-.94-2.06-.94 2.06-2.06.94zm-11 1L8.5 8.5l.94-2.06 2.06-.94-2.06-.94L8.5 2.5l-.94 2.06-2.06.94zm10 10l.94 2.06.94-2.06 2.06-.94-2.06-.94-.94-2.06-.94 2.06-2.06.94z\"/><path d=\"M17.41 7.96l-1.37-1.37c-.4-.4-.92-.59-1.43-.59-.52 0-1.04.2-1.43.59L10.3 9.45l-7.72 7.72c-.78.78-.78 2.05 0 2.83L4 21.41c.39.39.9.59 1.41.59.51 0 1.02-.2 1.41-.59l7.78-7.78 2.81-2.81c.8-.78.8-2.07 0-2.86zM5.41 20L4 18.59l7.72-7.72 1.47 1.35L5.41 20z\"/>\n",
              "  </svg>\n",
              "      </button>\n",
              "      \n",
              "  <style>\n",
              "    .colab-df-container {\n",
              "      display:flex;\n",
              "      flex-wrap:wrap;\n",
              "      gap: 12px;\n",
              "    }\n",
              "\n",
              "    .colab-df-convert {\n",
              "      background-color: #E8F0FE;\n",
              "      border: none;\n",
              "      border-radius: 50%;\n",
              "      cursor: pointer;\n",
              "      display: none;\n",
              "      fill: #1967D2;\n",
              "      height: 32px;\n",
              "      padding: 0 0 0 0;\n",
              "      width: 32px;\n",
              "    }\n",
              "\n",
              "    .colab-df-convert:hover {\n",
              "      background-color: #E2EBFA;\n",
              "      box-shadow: 0px 1px 2px rgba(60, 64, 67, 0.3), 0px 1px 3px 1px rgba(60, 64, 67, 0.15);\n",
              "      fill: #174EA6;\n",
              "    }\n",
              "\n",
              "    [theme=dark] .colab-df-convert {\n",
              "      background-color: #3B4455;\n",
              "      fill: #D2E3FC;\n",
              "    }\n",
              "\n",
              "    [theme=dark] .colab-df-convert:hover {\n",
              "      background-color: #434B5C;\n",
              "      box-shadow: 0px 1px 3px 1px rgba(0, 0, 0, 0.15);\n",
              "      filter: drop-shadow(0px 1px 2px rgba(0, 0, 0, 0.3));\n",
              "      fill: #FFFFFF;\n",
              "    }\n",
              "  </style>\n",
              "\n",
              "      <script>\n",
              "        const buttonEl =\n",
              "          document.querySelector('#df-9c86404e-c36d-4b01-8776-8073553d1144 button.colab-df-convert');\n",
              "        buttonEl.style.display =\n",
              "          google.colab.kernel.accessAllowed ? 'block' : 'none';\n",
              "\n",
              "        async function convertToInteractive(key) {\n",
              "          const element = document.querySelector('#df-9c86404e-c36d-4b01-8776-8073553d1144');\n",
              "          const dataTable =\n",
              "            await google.colab.kernel.invokeFunction('convertToInteractive',\n",
              "                                                     [key], {});\n",
              "          if (!dataTable) return;\n",
              "\n",
              "          const docLinkHtml = 'Like what you see? Visit the ' +\n",
              "            '<a target=\"_blank\" href=https://colab.research.google.com/notebooks/data_table.ipynb>data table notebook</a>'\n",
              "            + ' to learn more about interactive tables.';\n",
              "          element.innerHTML = '';\n",
              "          dataTable['output_type'] = 'display_data';\n",
              "          await google.colab.output.renderOutput(dataTable, element);\n",
              "          const docLink = document.createElement('div');\n",
              "          docLink.innerHTML = docLinkHtml;\n",
              "          element.appendChild(docLink);\n",
              "        }\n",
              "      </script>\n",
              "    </div>\n",
              "  </div>\n",
              "  "
            ]
          },
          "metadata": {},
          "execution_count": 5
        }
      ]
    },
    {
      "cell_type": "code",
      "source": [],
      "metadata": {
        "id": "NwLQDhiYL4ZJ"
      },
      "execution_count": null,
      "outputs": []
    },
    {
      "cell_type": "code",
      "source": [
        "#poistettu majoitusmuoto -muuttuja\n",
        "df1 = df.iloc[:,1:]\n",
        "df1.head()"
      ],
      "metadata": {
        "colab": {
          "base_uri": "https://localhost:8080/",
          "height": 206
        },
        "id": "ewwKdF5YL4jf",
        "outputId": "923705f4-5511-4062-8cbf-1fed91946c6f"
      },
      "execution_count": null,
      "outputs": [
        {
          "output_type": "execute_result",
          "data": {
            "text/plain": [
              "   matkakohde  matkan tarkoitus  matkan tyyppi  vuosi  \\\n",
              "0           1                 1             11      1   \n",
              "1           1                 2             12      1   \n",
              "2           2                 1             21      1   \n",
              "3           2                 2             22      1   \n",
              "4           1                 1             11      2   \n",
              "\n",
              "   matkat yön yli lkm tuhansia  yöpymiset lkm tuhansia  matkan ka kesto yötä  \\\n",
              "0                        26770                   73470                   2.7   \n",
              "1                         4140                    8270                   2.0   \n",
              "2                         7100                   43610                   6.1   \n",
              "3                         1950                    9780                   5.0   \n",
              "4                        26530                   75620                   2.9   \n",
              "\n",
              "   matkan med kesto yötä  \n",
              "0                      2  \n",
              "1                      1  \n",
              "2                      4  \n",
              "3                      2  \n",
              "4                      2  "
            ],
            "text/html": [
              "\n",
              "  <div id=\"df-ab1f1b1c-718e-4569-b36e-1388b0b09b9f\">\n",
              "    <div class=\"colab-df-container\">\n",
              "      <div>\n",
              "<style scoped>\n",
              "    .dataframe tbody tr th:only-of-type {\n",
              "        vertical-align: middle;\n",
              "    }\n",
              "\n",
              "    .dataframe tbody tr th {\n",
              "        vertical-align: top;\n",
              "    }\n",
              "\n",
              "    .dataframe thead th {\n",
              "        text-align: right;\n",
              "    }\n",
              "</style>\n",
              "<table border=\"1\" class=\"dataframe\">\n",
              "  <thead>\n",
              "    <tr style=\"text-align: right;\">\n",
              "      <th></th>\n",
              "      <th>matkakohde</th>\n",
              "      <th>matkan tarkoitus</th>\n",
              "      <th>matkan tyyppi</th>\n",
              "      <th>vuosi</th>\n",
              "      <th>matkat yön yli lkm tuhansia</th>\n",
              "      <th>yöpymiset lkm tuhansia</th>\n",
              "      <th>matkan ka kesto yötä</th>\n",
              "      <th>matkan med kesto yötä</th>\n",
              "    </tr>\n",
              "  </thead>\n",
              "  <tbody>\n",
              "    <tr>\n",
              "      <th>0</th>\n",
              "      <td>1</td>\n",
              "      <td>1</td>\n",
              "      <td>11</td>\n",
              "      <td>1</td>\n",
              "      <td>26770</td>\n",
              "      <td>73470</td>\n",
              "      <td>2.7</td>\n",
              "      <td>2</td>\n",
              "    </tr>\n",
              "    <tr>\n",
              "      <th>1</th>\n",
              "      <td>1</td>\n",
              "      <td>2</td>\n",
              "      <td>12</td>\n",
              "      <td>1</td>\n",
              "      <td>4140</td>\n",
              "      <td>8270</td>\n",
              "      <td>2.0</td>\n",
              "      <td>1</td>\n",
              "    </tr>\n",
              "    <tr>\n",
              "      <th>2</th>\n",
              "      <td>2</td>\n",
              "      <td>1</td>\n",
              "      <td>21</td>\n",
              "      <td>1</td>\n",
              "      <td>7100</td>\n",
              "      <td>43610</td>\n",
              "      <td>6.1</td>\n",
              "      <td>4</td>\n",
              "    </tr>\n",
              "    <tr>\n",
              "      <th>3</th>\n",
              "      <td>2</td>\n",
              "      <td>2</td>\n",
              "      <td>22</td>\n",
              "      <td>1</td>\n",
              "      <td>1950</td>\n",
              "      <td>9780</td>\n",
              "      <td>5.0</td>\n",
              "      <td>2</td>\n",
              "    </tr>\n",
              "    <tr>\n",
              "      <th>4</th>\n",
              "      <td>1</td>\n",
              "      <td>1</td>\n",
              "      <td>11</td>\n",
              "      <td>2</td>\n",
              "      <td>26530</td>\n",
              "      <td>75620</td>\n",
              "      <td>2.9</td>\n",
              "      <td>2</td>\n",
              "    </tr>\n",
              "  </tbody>\n",
              "</table>\n",
              "</div>\n",
              "      <button class=\"colab-df-convert\" onclick=\"convertToInteractive('df-ab1f1b1c-718e-4569-b36e-1388b0b09b9f')\"\n",
              "              title=\"Convert this dataframe to an interactive table.\"\n",
              "              style=\"display:none;\">\n",
              "        \n",
              "  <svg xmlns=\"http://www.w3.org/2000/svg\" height=\"24px\"viewBox=\"0 0 24 24\"\n",
              "       width=\"24px\">\n",
              "    <path d=\"M0 0h24v24H0V0z\" fill=\"none\"/>\n",
              "    <path d=\"M18.56 5.44l.94 2.06.94-2.06 2.06-.94-2.06-.94-.94-2.06-.94 2.06-2.06.94zm-11 1L8.5 8.5l.94-2.06 2.06-.94-2.06-.94L8.5 2.5l-.94 2.06-2.06.94zm10 10l.94 2.06.94-2.06 2.06-.94-2.06-.94-.94-2.06-.94 2.06-2.06.94z\"/><path d=\"M17.41 7.96l-1.37-1.37c-.4-.4-.92-.59-1.43-.59-.52 0-1.04.2-1.43.59L10.3 9.45l-7.72 7.72c-.78.78-.78 2.05 0 2.83L4 21.41c.39.39.9.59 1.41.59.51 0 1.02-.2 1.41-.59l7.78-7.78 2.81-2.81c.8-.78.8-2.07 0-2.86zM5.41 20L4 18.59l7.72-7.72 1.47 1.35L5.41 20z\"/>\n",
              "  </svg>\n",
              "      </button>\n",
              "      \n",
              "  <style>\n",
              "    .colab-df-container {\n",
              "      display:flex;\n",
              "      flex-wrap:wrap;\n",
              "      gap: 12px;\n",
              "    }\n",
              "\n",
              "    .colab-df-convert {\n",
              "      background-color: #E8F0FE;\n",
              "      border: none;\n",
              "      border-radius: 50%;\n",
              "      cursor: pointer;\n",
              "      display: none;\n",
              "      fill: #1967D2;\n",
              "      height: 32px;\n",
              "      padding: 0 0 0 0;\n",
              "      width: 32px;\n",
              "    }\n",
              "\n",
              "    .colab-df-convert:hover {\n",
              "      background-color: #E2EBFA;\n",
              "      box-shadow: 0px 1px 2px rgba(60, 64, 67, 0.3), 0px 1px 3px 1px rgba(60, 64, 67, 0.15);\n",
              "      fill: #174EA6;\n",
              "    }\n",
              "\n",
              "    [theme=dark] .colab-df-convert {\n",
              "      background-color: #3B4455;\n",
              "      fill: #D2E3FC;\n",
              "    }\n",
              "\n",
              "    [theme=dark] .colab-df-convert:hover {\n",
              "      background-color: #434B5C;\n",
              "      box-shadow: 0px 1px 3px 1px rgba(0, 0, 0, 0.15);\n",
              "      filter: drop-shadow(0px 1px 2px rgba(0, 0, 0, 0.3));\n",
              "      fill: #FFFFFF;\n",
              "    }\n",
              "  </style>\n",
              "\n",
              "      <script>\n",
              "        const buttonEl =\n",
              "          document.querySelector('#df-ab1f1b1c-718e-4569-b36e-1388b0b09b9f button.colab-df-convert');\n",
              "        buttonEl.style.display =\n",
              "          google.colab.kernel.accessAllowed ? 'block' : 'none';\n",
              "\n",
              "        async function convertToInteractive(key) {\n",
              "          const element = document.querySelector('#df-ab1f1b1c-718e-4569-b36e-1388b0b09b9f');\n",
              "          const dataTable =\n",
              "            await google.colab.kernel.invokeFunction('convertToInteractive',\n",
              "                                                     [key], {});\n",
              "          if (!dataTable) return;\n",
              "\n",
              "          const docLinkHtml = 'Like what you see? Visit the ' +\n",
              "            '<a target=\"_blank\" href=https://colab.research.google.com/notebooks/data_table.ipynb>data table notebook</a>'\n",
              "            + ' to learn more about interactive tables.';\n",
              "          element.innerHTML = '';\n",
              "          dataTable['output_type'] = 'display_data';\n",
              "          await google.colab.output.renderOutput(dataTable, element);\n",
              "          const docLink = document.createElement('div');\n",
              "          docLink.innerHTML = docLinkHtml;\n",
              "          element.appendChild(docLink);\n",
              "        }\n",
              "      </script>\n",
              "    </div>\n",
              "  </div>\n",
              "  "
            ]
          },
          "metadata": {},
          "execution_count": 7
        }
      ]
    },
    {
      "cell_type": "markdown",
      "source": [
        "**Tehty normalisointi muuttujille MinMaxScaler avulla.**"
      ],
      "metadata": {
        "id": "umFVWR62hU_o"
      }
    },
    {
      "cell_type": "code",
      "source": [
        "\n",
        "from sklearn.preprocessing import MinMaxScaler\n",
        "scaler = MinMaxScaler()\n",
        "df1 = scaler.fit_transform(df1)"
      ],
      "metadata": {
        "id": "fY2RsNwWLtoh"
      },
      "execution_count": null,
      "outputs": []
    },
    {
      "cell_type": "code",
      "source": [
        "\n",
        "df1 = pd.DataFrame(df1, columns =['matkakohde', 'matkan tarkoitus', 'matkan tyyppi', 'vuosi', 'matkat yön yli lkm tuhansia', 'yöpymiset lkm tuhansia', 'matkan ka kesto yötä', 'matkan med kesto yötä'])\n",
        "df1.head()"
      ],
      "metadata": {
        "colab": {
          "base_uri": "https://localhost:8080/",
          "height": 206
        },
        "id": "3gOgjJUbLt62",
        "outputId": "69870764-f919-424e-ba1c-a1dd5144bffd"
      },
      "execution_count": null,
      "outputs": [
        {
          "output_type": "execute_result",
          "data": {
            "text/plain": [
              "   matkakohde  matkan tarkoitus  matkan tyyppi     vuosi  \\\n",
              "0         0.0               0.0       0.000000  0.000000   \n",
              "1         0.0               1.0       0.090909  0.000000   \n",
              "2         1.0               0.0       0.909091  0.000000   \n",
              "3         1.0               1.0       1.000000  0.000000   \n",
              "4         0.0               0.0       0.000000  0.111111   \n",
              "\n",
              "   matkat yön yli lkm tuhansia  yöpymiset lkm tuhansia  matkan ka kesto yötä  \\\n",
              "0                     0.965379                0.748506              0.093750   \n",
              "1                     0.140671                0.064709              0.020833   \n",
              "2                     0.248542                0.435343              0.447917   \n",
              "3                     0.060860                0.080545              0.333333   \n",
              "4                     0.956633                0.771054              0.114583   \n",
              "\n",
              "   matkan med kesto yötä  \n",
              "0                   0.25  \n",
              "1                   0.00  \n",
              "2                   0.75  \n",
              "3                   0.25  \n",
              "4                   0.25  "
            ],
            "text/html": [
              "\n",
              "  <div id=\"df-69e7e446-4f5c-40e3-860e-fc397c7aba7f\">\n",
              "    <div class=\"colab-df-container\">\n",
              "      <div>\n",
              "<style scoped>\n",
              "    .dataframe tbody tr th:only-of-type {\n",
              "        vertical-align: middle;\n",
              "    }\n",
              "\n",
              "    .dataframe tbody tr th {\n",
              "        vertical-align: top;\n",
              "    }\n",
              "\n",
              "    .dataframe thead th {\n",
              "        text-align: right;\n",
              "    }\n",
              "</style>\n",
              "<table border=\"1\" class=\"dataframe\">\n",
              "  <thead>\n",
              "    <tr style=\"text-align: right;\">\n",
              "      <th></th>\n",
              "      <th>matkakohde</th>\n",
              "      <th>matkan tarkoitus</th>\n",
              "      <th>matkan tyyppi</th>\n",
              "      <th>vuosi</th>\n",
              "      <th>matkat yön yli lkm tuhansia</th>\n",
              "      <th>yöpymiset lkm tuhansia</th>\n",
              "      <th>matkan ka kesto yötä</th>\n",
              "      <th>matkan med kesto yötä</th>\n",
              "    </tr>\n",
              "  </thead>\n",
              "  <tbody>\n",
              "    <tr>\n",
              "      <th>0</th>\n",
              "      <td>0.0</td>\n",
              "      <td>0.0</td>\n",
              "      <td>0.000000</td>\n",
              "      <td>0.000000</td>\n",
              "      <td>0.965379</td>\n",
              "      <td>0.748506</td>\n",
              "      <td>0.093750</td>\n",
              "      <td>0.25</td>\n",
              "    </tr>\n",
              "    <tr>\n",
              "      <th>1</th>\n",
              "      <td>0.0</td>\n",
              "      <td>1.0</td>\n",
              "      <td>0.090909</td>\n",
              "      <td>0.000000</td>\n",
              "      <td>0.140671</td>\n",
              "      <td>0.064709</td>\n",
              "      <td>0.020833</td>\n",
              "      <td>0.00</td>\n",
              "    </tr>\n",
              "    <tr>\n",
              "      <th>2</th>\n",
              "      <td>1.0</td>\n",
              "      <td>0.0</td>\n",
              "      <td>0.909091</td>\n",
              "      <td>0.000000</td>\n",
              "      <td>0.248542</td>\n",
              "      <td>0.435343</td>\n",
              "      <td>0.447917</td>\n",
              "      <td>0.75</td>\n",
              "    </tr>\n",
              "    <tr>\n",
              "      <th>3</th>\n",
              "      <td>1.0</td>\n",
              "      <td>1.0</td>\n",
              "      <td>1.000000</td>\n",
              "      <td>0.000000</td>\n",
              "      <td>0.060860</td>\n",
              "      <td>0.080545</td>\n",
              "      <td>0.333333</td>\n",
              "      <td>0.25</td>\n",
              "    </tr>\n",
              "    <tr>\n",
              "      <th>4</th>\n",
              "      <td>0.0</td>\n",
              "      <td>0.0</td>\n",
              "      <td>0.000000</td>\n",
              "      <td>0.111111</td>\n",
              "      <td>0.956633</td>\n",
              "      <td>0.771054</td>\n",
              "      <td>0.114583</td>\n",
              "      <td>0.25</td>\n",
              "    </tr>\n",
              "  </tbody>\n",
              "</table>\n",
              "</div>\n",
              "      <button class=\"colab-df-convert\" onclick=\"convertToInteractive('df-69e7e446-4f5c-40e3-860e-fc397c7aba7f')\"\n",
              "              title=\"Convert this dataframe to an interactive table.\"\n",
              "              style=\"display:none;\">\n",
              "        \n",
              "  <svg xmlns=\"http://www.w3.org/2000/svg\" height=\"24px\"viewBox=\"0 0 24 24\"\n",
              "       width=\"24px\">\n",
              "    <path d=\"M0 0h24v24H0V0z\" fill=\"none\"/>\n",
              "    <path d=\"M18.56 5.44l.94 2.06.94-2.06 2.06-.94-2.06-.94-.94-2.06-.94 2.06-2.06.94zm-11 1L8.5 8.5l.94-2.06 2.06-.94-2.06-.94L8.5 2.5l-.94 2.06-2.06.94zm10 10l.94 2.06.94-2.06 2.06-.94-2.06-.94-.94-2.06-.94 2.06-2.06.94z\"/><path d=\"M17.41 7.96l-1.37-1.37c-.4-.4-.92-.59-1.43-.59-.52 0-1.04.2-1.43.59L10.3 9.45l-7.72 7.72c-.78.78-.78 2.05 0 2.83L4 21.41c.39.39.9.59 1.41.59.51 0 1.02-.2 1.41-.59l7.78-7.78 2.81-2.81c.8-.78.8-2.07 0-2.86zM5.41 20L4 18.59l7.72-7.72 1.47 1.35L5.41 20z\"/>\n",
              "  </svg>\n",
              "      </button>\n",
              "      \n",
              "  <style>\n",
              "    .colab-df-container {\n",
              "      display:flex;\n",
              "      flex-wrap:wrap;\n",
              "      gap: 12px;\n",
              "    }\n",
              "\n",
              "    .colab-df-convert {\n",
              "      background-color: #E8F0FE;\n",
              "      border: none;\n",
              "      border-radius: 50%;\n",
              "      cursor: pointer;\n",
              "      display: none;\n",
              "      fill: #1967D2;\n",
              "      height: 32px;\n",
              "      padding: 0 0 0 0;\n",
              "      width: 32px;\n",
              "    }\n",
              "\n",
              "    .colab-df-convert:hover {\n",
              "      background-color: #E2EBFA;\n",
              "      box-shadow: 0px 1px 2px rgba(60, 64, 67, 0.3), 0px 1px 3px 1px rgba(60, 64, 67, 0.15);\n",
              "      fill: #174EA6;\n",
              "    }\n",
              "\n",
              "    [theme=dark] .colab-df-convert {\n",
              "      background-color: #3B4455;\n",
              "      fill: #D2E3FC;\n",
              "    }\n",
              "\n",
              "    [theme=dark] .colab-df-convert:hover {\n",
              "      background-color: #434B5C;\n",
              "      box-shadow: 0px 1px 3px 1px rgba(0, 0, 0, 0.15);\n",
              "      filter: drop-shadow(0px 1px 2px rgba(0, 0, 0, 0.3));\n",
              "      fill: #FFFFFF;\n",
              "    }\n",
              "  </style>\n",
              "\n",
              "      <script>\n",
              "        const buttonEl =\n",
              "          document.querySelector('#df-69e7e446-4f5c-40e3-860e-fc397c7aba7f button.colab-df-convert');\n",
              "        buttonEl.style.display =\n",
              "          google.colab.kernel.accessAllowed ? 'block' : 'none';\n",
              "\n",
              "        async function convertToInteractive(key) {\n",
              "          const element = document.querySelector('#df-69e7e446-4f5c-40e3-860e-fc397c7aba7f');\n",
              "          const dataTable =\n",
              "            await google.colab.kernel.invokeFunction('convertToInteractive',\n",
              "                                                     [key], {});\n",
              "          if (!dataTable) return;\n",
              "\n",
              "          const docLinkHtml = 'Like what you see? Visit the ' +\n",
              "            '<a target=\"_blank\" href=https://colab.research.google.com/notebooks/data_table.ipynb>data table notebook</a>'\n",
              "            + ' to learn more about interactive tables.';\n",
              "          element.innerHTML = '';\n",
              "          dataTable['output_type'] = 'display_data';\n",
              "          await google.colab.output.renderOutput(dataTable, element);\n",
              "          const docLink = document.createElement('div');\n",
              "          docLink.innerHTML = docLinkHtml;\n",
              "          element.appendChild(docLink);\n",
              "        }\n",
              "      </script>\n",
              "    </div>\n",
              "  </div>\n",
              "  "
            ]
          },
          "metadata": {},
          "execution_count": 10
        }
      ]
    },
    {
      "cell_type": "markdown",
      "source": [
        "**Kuvaaja matkojen ja yöpymisten lukumääristä (tuhansina)**"
      ],
      "metadata": {
        "id": "T5jxXFVyhhzA"
      }
    },
    {
      "cell_type": "code",
      "source": [
        "\n",
        "plt.scatter(df1['matkat yön yli lkm tuhansia'], df1['yöpymiset lkm tuhansia'])\n",
        "plt.show()\n"
      ],
      "metadata": {
        "colab": {
          "base_uri": "https://localhost:8080/",
          "height": 265
        },
        "id": "_8-vBc85acE3",
        "outputId": "ba716dfa-31f3-46d0-bfee-f53c491e307b"
      },
      "execution_count": null,
      "outputs": [
        {
          "output_type": "display_data",
          "data": {
            "text/plain": [
              "<Figure size 432x288 with 1 Axes>"
            ],
            "image/png": "[encoded data removed]"
          },
          "metadata": {
            "needs_background": "light"
          }
        }
      ]
    },
    {
      "cell_type": "code",
      "source": [
        "\n",
        "# muutetaan muuttujanimet\n",
        "travel = df1['matkat yön yli lkm tuhansia']\n",
        "overnight = df1['yöpymiset lkm tuhansia']\n"
      ],
      "metadata": {
        "id": "E8zKCb3Fa-VJ"
      },
      "execution_count": null,
      "outputs": []
    },
    {
      "cell_type": "code",
      "source": [
        "\n",
        "travel = np.array(travel).reshape(-1,1) # pitää olla numpyn 2D taulu\n",
        "overnight = np.array(overnight).reshape(-1,1)\n",
        "travel"
      ],
      "metadata": {
        "colab": {
          "base_uri": "https://localhost:8080/"
        },
        "id": "Nwnd3S9IbPK1",
        "outputId": "84c892de-642c-481d-ad94-c9a766807385"
      },
      "execution_count": null,
      "outputs": [
        {
          "output_type": "execute_result",
          "data": {
            "text/plain": [
              "array([[0.96537901],\n",
              "       [0.14067055],\n",
              "       [0.24854227],\n",
              "       [0.06086006],\n",
              "       [0.95663265],\n",
              "       [0.13374636],\n",
              "       [0.24453353],\n",
              "       [0.04737609],\n",
              "       [0.9085277 ],\n",
              "       [0.12244898],\n",
              "       [0.24599125],\n",
              "       [0.05174927],\n",
              "       [0.9271137 ],\n",
              "       [0.11479592],\n",
              "       [0.25400875],\n",
              "       [0.05029155],\n",
              "       [0.93476676],\n",
              "       [0.13046647],\n",
              "       [0.25364431],\n",
              "       [0.05867347],\n",
              "       [0.95116618],\n",
              "       [0.12755102],\n",
              "       [0.26567055],\n",
              "       [0.05393586],\n",
              "       [0.92565598],\n",
              "       [0.11516035],\n",
              "       [0.25911079],\n",
              "       [0.0648688 ],\n",
              "       [0.92747813],\n",
              "       [0.12062682],\n",
              "       [0.25765306],\n",
              "       [0.06450437],\n",
              "       [0.76895044],\n",
              "       [0.06122449],\n",
              "       [0.06122449],\n",
              "       [0.00327988],\n",
              "       [1.        ],\n",
              "       [0.04992711],\n",
              "       [0.0451895 ],\n",
              "       [0.        ]])"
            ]
          },
          "metadata": {},
          "execution_count": 15
        }
      ]
    },
    {
      "cell_type": "markdown",
      "source": [
        "**Otetaan käyttöön lineaarisen regression malli.**"
      ],
      "metadata": {
        "id": "hJ_iLCVYjRn4"
      }
    },
    {
      "cell_type": "code",
      "source": [
        "\n",
        "malli = linear_model.LinearRegression()\n",
        "malli.fit(travel,overnight)"
      ],
      "metadata": {
        "colab": {
          "base_uri": "https://localhost:8080/"
        },
        "id": "NxSGsj-xbUBx",
        "outputId": "807d3e54-11f2-4b97-bae0-bf97c906a634"
      },
      "execution_count": null,
      "outputs": [
        {
          "output_type": "execute_result",
          "data": {
            "text/plain": [
              "LinearRegression()"
            ]
          },
          "metadata": {},
          "execution_count": 16
        }
      ]
    },
    {
      "cell_type": "code",
      "source": [
        "\n",
        "# ennustetaan overnight -arvo kun travel -arvo on 0.8\n",
        "\n",
        "overnight1 = np.full((1,1),0.8) # pitää olla numpyn 2D taulu\n",
        "travel1 = malli.predict(overnight1)\n",
        "travel1"
      ],
      "metadata": {
        "colab": {
          "base_uri": "https://localhost:8080/"
        },
        "id": "Kn1gce_RbaJq",
        "outputId": "37714ac2-642d-4e87-e812-febec7c09ae4"
      },
      "execution_count": null,
      "outputs": [
        {
          "output_type": "execute_result",
          "data": {
            "text/plain": [
              "array([[0.703306]])"
            ]
          },
          "metadata": {},
          "execution_count": 17
        }
      ]
    },
    {
      "cell_type": "markdown",
      "source": [
        "**Piirretään regressiosuora**"
      ],
      "metadata": {
        "id": "ImzyAYL6jHUx"
      }
    },
    {
      "cell_type": "code",
      "source": [
        "\n",
        "# regressiosuora\n",
        "# valittu suoralle alku 0 ja loppu 1 travel -arvojen perusteella\n",
        "\n",
        "travel2 = np.linspace(0,1,2).reshape(-1,1)\n",
        "overnight2 = malli.predict(travel2)\n",
        "plt.plot(travel2, overnight2, color=\"red\")\n",
        "plt.scatter(travel, overnight)\n",
        "plt.show()\n"
      ],
      "metadata": {
        "colab": {
          "base_uri": "https://localhost:8080/",
          "height": 265
        },
        "id": "6oqYUGCzbhIW",
        "outputId": "3251bf95-7c10-4651-9907-ac2715bdfa04"
      },
      "execution_count": null,
      "outputs": [
        {
          "output_type": "display_data",
          "data": {
            "text/plain": [
              "<Figure size 432x288 with 1 Axes>"
            ],
            "image/png": "[encoded data removed]"
          },
          "metadata": {
            "needs_background": "light"
          }
        }
      ]
    },
    {
      "cell_type": "markdown",
      "source": [
        "**Laskettu RMSE ja R2 arvot.**"
      ],
      "metadata": {
        "id": "Tff1hHnvi-qT"
      }
    },
    {
      "cell_type": "code",
      "source": [
        "\n",
        "from sklearn import metrics\n",
        "\n",
        "overnight_hat = malli.predict(travel) \n",
        "print('Root Mean Squared Error:', np.sqrt(metrics.mean_squared_error(overnight, overnight_hat)))\n",
        "print('R2 value:', metrics.r2_score(overnight, overnight_hat))\n"
      ],
      "metadata": {
        "id": "KAFLaR3mb0Gw",
        "outputId": "4ceeace6-4b1a-4beb-deb4-6d89ac2a7651",
        "colab": {
          "base_uri": "https://localhost:8080/"
        }
      },
      "execution_count": null,
      "outputs": [
        {
          "output_type": "stream",
          "name": "stdout",
          "text": [
            "Root Mean Squared Error: 0.10742490889219179\n",
            "R2 value: 0.8789844616554054\n"
          ]
        }
      ]
    },
    {
      "cell_type": "markdown",
      "source": [
        "**Malli sai hyvän R2 arvon 0.878**"
      ],
      "metadata": {
        "id": "a1vu5OgLj_iY"
      }
    },
    {
      "cell_type": "code",
      "source": [],
      "metadata": {
        "id": "wyHsE3m6b5XB"
      },
      "execution_count": null,
      "outputs": []
    }
  ]
}